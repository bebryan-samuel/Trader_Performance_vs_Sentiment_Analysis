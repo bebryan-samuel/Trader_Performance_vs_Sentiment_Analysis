{
 "cells": [
  {
   "cell_type": "markdown",
   "id": "f2bb6b61",
   "metadata": {},
   "source": [
    "# Trader Performance vs Market Sentiment Analysis\n",
    "\n",
    "This notebook analyzes the relationship between Bitcoin market sentiment (Fear & Greed Index) and trader performance (Closed PnL) using historical trading data.\n",
    "\n",
    "We will follow these steps:\n",
    "1. Load datasets\n",
    "2. Preprocess data\n",
    "3. Visualize trends and relationships\n",
    "4. Perform correlation analysis\n",
    "5. Summarize insights"
   ]
  },
  {
   "cell_type": "markdown",
   "id": "ae72a73d",
   "metadata": {},
   "source": [
    "## Step 1: Import Required Libraries"
   ]
  },
  {
   "cell_type": "code",
   "execution_count": null,
   "id": "65e35a09",
   "metadata": {},
   "outputs": [],
   "source": [
    "import pandas as pd\n",
    "import numpy as np\n",
    "import matplotlib.pyplot as plt\n",
    "import seaborn as sns\n",
    "\n",
    "# Set Seaborn style\n",
    "sns.set_style('whitegrid')"
   ]
  },
  {
   "cell_type": "markdown",
   "id": "63d6baaa",
   "metadata": {},
   "source": [
    "## Step 2: Load the Datasets\n",
    "\n",
    "We load the Fear & Greed Index dataset and the historical trader data."
   ]
  },
  {
   "cell_type": "code",
   "execution_count": null,
   "id": "60436727",
   "metadata": {},
   "outputs": [],
   "source": [
    "fear_greed_df = pd.read_csv('fear_greed_index.csv')\n",
    "historical_data_df = pd.read_csv('historical_data.csv')\n",
    "\n",
    "# Show sample data\n",
    "display(fear_greed_df.head())\n",
    "display(historical_data_df.head())"
   ]
  },
  {
   "cell_type": "markdown",
   "id": "7b165a50",
   "metadata": {},
   "source": [
    "## Step 3: Data Preprocessing\n",
    "\n",
    "- Convert timestamps to datetime objects.\n",
    "- Extract date for merging datasets."
   ]
  },
  {
   "cell_type": "code",
   "execution_count": null,
   "id": "a7246af6",
   "metadata": {},
   "outputs": [],
   "source": [
    "# Convert 'date' column in Fear & Greed dataset\n",
    "fear_greed_df['date'] = pd.to_datetime(fear_greed_df['date']).dt.date\n",
    "\n",
    "# Convert 'Timestamp IST' and extract date\n",
    "historical_data_df['Timestamp IST'] = pd.to_datetime(historical_data_df['Timestamp IST'], format='%d-%m-%Y %H:%M')\n",
    "historical_data_df['date'] = historical_data_df['Timestamp IST'].dt.date\n",
    "\n",
    "# Merge datasets on date\n",
    "merged_df = pd.merge(historical_data_df, fear_greed_df, on='date', how='left')\n",
    "\n",
    "display(merged_df.head())"
   ]
  },
  {
   "cell_type": "markdown",
   "id": "24b0af21",
   "metadata": {},
   "source": [
    "## Visualization 1: Fear & Greed Index Over Time"
   ]
  },
  {
   "cell_type": "code",
   "execution_count": null,
   "id": "2a9c7aaf",
   "metadata": {},
   "outputs": [],
   "source": [
    "plt.figure(figsize=(14,7))\n",
    "plt.plot(fear_greed_df['date'], fear_greed_df['value'], marker='o', linestyle='-', color='blue')\n",
    "plt.title('Fear & Greed Index Over Time', fontsize=16)\n",
    "plt.xlabel('Date', fontsize=14)\n",
    "plt.ylabel('Sentiment Value', fontsize=14)\n",
    "plt.xticks(rotation=45)\n",
    "plt.grid(True)\n",
    "plt.show()"
   ]
  },
  {
   "cell_type": "markdown",
   "id": "3dc1c0f2",
   "metadata": {},
   "source": [
    "## Visualization 2: Distribution of Closed PnL"
   ]
  },
  {
   "cell_type": "code",
   "execution_count": null,
   "id": "8695d44d",
   "metadata": {},
   "outputs": [],
   "source": [
    "plt.figure(figsize=(14,7))\n",
    "sns.histplot(merged_df['Closed PnL'], bins=100, kde=True, color='green')\n",
    "plt.title('Distribution of Closed PnL (Trader Performance)', fontsize=16)\n",
    "plt.xlabel('Closed PnL', fontsize=14)\n",
    "plt.ylabel('Frequency', fontsize=14)\n",
    "plt.grid(True)\n",
    "plt.show()"
   ]
  },
  {
   "cell_type": "markdown",
   "id": "822586ee",
   "metadata": {},
   "source": [
    "## Visualization 3: Sentiment Classification vs Closed PnL"
   ]
  },
  {
   "cell_type": "code",
   "execution_count": null,
   "id": "4674c909",
   "metadata": {},
   "outputs": [],
   "source": [
    "plt.figure(figsize=(16,8))\n",
    "sns.boxplot(x='classification', y='Closed PnL', data=merged_df, palette='Set2')\n",
    "plt.xticks(rotation=45, fontsize=12)\n",
    "plt.title('Trader Performance vs Fear/Greed Sentiment Classification', fontsize=16)\n",
    "plt.xlabel('Sentiment Classification', fontsize=14)\n",
    "plt.ylabel('Closed PnL', fontsize=14)\n",
    "plt.grid(True, linestyle='--', alpha=0.5)\n",
    "plt.show()"
   ]
  },
  {
   "cell_type": "markdown",
   "id": "6b2c82ab",
   "metadata": {},
   "source": [
    "## Visualization 4: Correlation Heatmap"
   ]
  },
  {
   "cell_type": "code",
   "execution_count": null,
   "id": "23727ab3",
   "metadata": {},
   "outputs": [],
   "source": [
    "plt.figure(figsize=(8,6))\n",
    "corr_matrix = merged_df[['value', 'Closed PnL']].corr()\n",
    "sns.heatmap(corr_matrix, annot=True, cmap='coolwarm', fmt='.2f')\n",
    "plt.title('Correlation between Sentiment Value and Closed PnL', fontsize=16)\n",
    "plt.show()"
   ]
  },
  {
   "cell_type": "markdown",
   "id": "59156a4d",
   "metadata": {},
   "source": [
    "## Step 5: Correlation Analysis"
   ]
  },
  {
   "cell_type": "code",
   "execution_count": null,
   "id": "2ed950a4",
   "metadata": {},
   "outputs": [],
   "source": [
    "correlation = merged_df['value'].corr(merged_df['Closed PnL'])\n",
    "print(f\"Correlation between Fear/Greed Index and Closed PnL: {correlation:.4f}\")"
   ]
  },
  {
   "cell_type": "markdown",
   "id": "8f193640",
   "metadata": {},
   "source": [
    "## Step 6: Summary of Insights\n",
    "\n",
    "- The Fear & Greed Index fluctuates over time, reflecting market sentiment trends.\n",
    "- The distribution of Closed PnL is centered around zero, indicating a mix of profitable and unprofitable trades.\n",
    "- Boxplots suggest that extreme sentiment periods (Fear or Greed) show greater variance in trader performance.\n",
    "- Correlation analysis shows a weak/moderate relationship between market sentiment and trader profitability.\n",
    "\n",
    "**Conclusion:**\n",
    "Traders should exercise caution during extreme market sentiment phases, as high volatility can impact performance. Strategies should consider market sentiment as an additional factor."
   ]
  },
  {
   "cell_type": "markdown",
   "id": "5531a28f",
   "metadata": {},
   "source": [
    "## Step 7: Save Processed Data (Optional)"
   ]
  },
  {
   "cell_type": "code",
   "execution_count": null,
   "id": "d81f3cd5",
   "metadata": {},
   "outputs": [],
   "source": [
    "merged_df.to_csv('merged_trader_sentiment_data.csv', index=False)\n",
    "print('Merged dataset saved successfully.')"
   ]
  }
 ],
 "metadata": {},
 "nbformat": 4,
 "nbformat_minor": 5
}
